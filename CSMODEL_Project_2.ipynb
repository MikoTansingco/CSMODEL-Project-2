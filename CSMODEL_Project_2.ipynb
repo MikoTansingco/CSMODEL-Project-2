{
 "cells": [
  {
   "cell_type": "markdown",
   "metadata": {},
   "source": [
    "## Import\n",
    "Import **numpy**, **pandas** and **matplotlib**."
   ]
  },
  {
   "cell_type": "code",
   "execution_count": 5,
   "metadata": {},
   "outputs": [],
   "source": [
    "import numpy as np\n",
    "import pandas as pd\n",
    "import matplotlib.pyplot as plt\n",
    "import seaborn as sns\n",
    "\n",
    "\n",
    "%matplotlib inline"
   ]
  },
  {
   "cell_type": "markdown",
   "metadata": {},
   "source": [
    "-------------------------------------"
   ]
  },
  {
   "cell_type": "markdown",
   "metadata": {},
   "source": [
    "### Data Representation"
   ]
  },
  {
   "cell_type": "markdown",
   "metadata": {},
   "source": [
    "Phase 1: Loading the Dataset into a dataframe\n",
    "\n",
    "Notes: <br>\n",
    "<li> For this Project our group has chosen \"Dataset2\" as the dataset we will be working on. </li>\n",
    "<li> We will be representing the data here as \"df2\". </li>"
   ]
  },
  {
   "cell_type": "code",
   "execution_count": 6,
   "metadata": {},
   "outputs": [],
   "source": [
    "df2 = pd.read_csv('Dataset2.csv')"
   ]
  },
  {
   "cell_type": "markdown",
   "metadata": {},
   "source": [
    "-------------------------------------"
   ]
  },
  {
   "cell_type": "markdown",
   "metadata": {},
   "source": [
    "Phase 2: Representation and Alteration of the variables (columns) of the dataset\n",
    "\n",
    "Notes: <br>\n",
    "<li> In this phase, we will give the columns of the dataset a presumed representation by assigning to it variables based on a certain theme </li>\n",
    "<li> For this dataset, our theme will be music and our columns will represent the different aspects of a piece of music, namely: <br>\n",
    "    tempo <br>\n",
    "    rythm <br>\n",
    "    pitch <br>\n",
    "    acousticness <br>\n",
    "    danceability <br>\n",
    "    energy <br>\n",
    "    instrumentalness <br>\n",
    "    loudness <br>\n",
    "    liveness <br>\n",
    "    valence <br></li>\n",
    "<li> For the \"class\" column, which is our clusters, these will be represented as 3 certain genres of music: \"Pop Music\", \"Alternative Rock\", and \"Jazz\".\n",
    "<li> We will also be removing the \"Unnamed: 0\" column, since it is identical to the row id column. </li>"
   ]
  },
  {
   "cell_type": "code",
   "execution_count": 7,
   "metadata": {},
   "outputs": [],
   "source": [
    "df2_copy = df2\n",
    "\n",
    "new_columns1 = ['tempo','rythm','pitch','acousticness','danceability']\n",
    "new_columns2 = ['energy','instrumentalness','loudness','liveness','valence']\n",
    "new_columns = new_columns1 + new_columns2\n",
    "\n",
    "for i in range(10):\n",
    "    df2_copy = df2_copy.rename(columns={'f'+str(i+1) : new_columns[i]})"
   ]
  },
  {
   "cell_type": "code",
   "execution_count": 8,
   "metadata": {},
   "outputs": [],
   "source": [
    "df2_copy['class'] = df2_copy['class'].replace(0,'pop music')\n",
    "df2_copy['class'] = df2_copy['class'].replace(1,'alternative rock')\n",
    "df2_copy['class'] = df2_copy['class'].replace(2,'jazz')"
   ]
  },
  {
   "cell_type": "code",
   "execution_count": 9,
   "metadata": {},
   "outputs": [],
   "source": [
    "df2_copy = df2_copy.drop(['Unnamed: 0'], axis = 1)"
   ]
  },
  {
   "cell_type": "code",
   "execution_count": 10,
   "metadata": {},
   "outputs": [
    {
     "data": {
      "text/html": [
       "<div>\n",
       "<style scoped>\n",
       "    .dataframe tbody tr th:only-of-type {\n",
       "        vertical-align: middle;\n",
       "    }\n",
       "\n",
       "    .dataframe tbody tr th {\n",
       "        vertical-align: top;\n",
       "    }\n",
       "\n",
       "    .dataframe thead th {\n",
       "        text-align: right;\n",
       "    }\n",
       "</style>\n",
       "<table border=\"1\" class=\"dataframe\">\n",
       "  <thead>\n",
       "    <tr style=\"text-align: right;\">\n",
       "      <th></th>\n",
       "      <th>tempo</th>\n",
       "      <th>rythm</th>\n",
       "      <th>pitch</th>\n",
       "      <th>acousticness</th>\n",
       "      <th>danceability</th>\n",
       "      <th>energy</th>\n",
       "      <th>instrumentalness</th>\n",
       "      <th>loudness</th>\n",
       "      <th>liveness</th>\n",
       "      <th>valence</th>\n",
       "      <th>class</th>\n",
       "    </tr>\n",
       "  </thead>\n",
       "  <tbody>\n",
       "    <tr>\n",
       "      <th>0</th>\n",
       "      <td>10.652692</td>\n",
       "      <td>16.042400</td>\n",
       "      <td>24.565548</td>\n",
       "      <td>26.272129</td>\n",
       "      <td>45.647680</td>\n",
       "      <td>58.632068</td>\n",
       "      <td>45.045855</td>\n",
       "      <td>67.675526</td>\n",
       "      <td>80.165594</td>\n",
       "      <td>90.417547</td>\n",
       "      <td>pop music</td>\n",
       "    </tr>\n",
       "    <tr>\n",
       "      <th>1</th>\n",
       "      <td>5.722232</td>\n",
       "      <td>17.035886</td>\n",
       "      <td>15.896998</td>\n",
       "      <td>30.542138</td>\n",
       "      <td>45.783895</td>\n",
       "      <td>47.886595</td>\n",
       "      <td>54.478161</td>\n",
       "      <td>80.577335</td>\n",
       "      <td>77.942159</td>\n",
       "      <td>76.989651</td>\n",
       "      <td>pop music</td>\n",
       "    </tr>\n",
       "    <tr>\n",
       "      <th>2</th>\n",
       "      <td>-12.363202</td>\n",
       "      <td>8.080350</td>\n",
       "      <td>22.206259</td>\n",
       "      <td>28.204266</td>\n",
       "      <td>54.067783</td>\n",
       "      <td>55.704987</td>\n",
       "      <td>64.482570</td>\n",
       "      <td>61.861936</td>\n",
       "      <td>83.913536</td>\n",
       "      <td>93.484662</td>\n",
       "      <td>pop music</td>\n",
       "    </tr>\n",
       "    <tr>\n",
       "      <th>3</th>\n",
       "      <td>-0.067071</td>\n",
       "      <td>4.439547</td>\n",
       "      <td>16.885748</td>\n",
       "      <td>30.573906</td>\n",
       "      <td>35.575125</td>\n",
       "      <td>65.921801</td>\n",
       "      <td>64.191040</td>\n",
       "      <td>78.823812</td>\n",
       "      <td>71.224372</td>\n",
       "      <td>93.153639</td>\n",
       "      <td>pop music</td>\n",
       "    </tr>\n",
       "    <tr>\n",
       "      <th>4</th>\n",
       "      <td>4.970688</td>\n",
       "      <td>6.228799</td>\n",
       "      <td>25.188235</td>\n",
       "      <td>29.065907</td>\n",
       "      <td>35.151767</td>\n",
       "      <td>57.690875</td>\n",
       "      <td>58.618101</td>\n",
       "      <td>66.280558</td>\n",
       "      <td>102.556176</td>\n",
       "      <td>91.872643</td>\n",
       "      <td>pop music</td>\n",
       "    </tr>\n",
       "    <tr>\n",
       "      <th>...</th>\n",
       "      <td>...</td>\n",
       "      <td>...</td>\n",
       "      <td>...</td>\n",
       "      <td>...</td>\n",
       "      <td>...</td>\n",
       "      <td>...</td>\n",
       "      <td>...</td>\n",
       "      <td>...</td>\n",
       "      <td>...</td>\n",
       "      <td>...</td>\n",
       "      <td>...</td>\n",
       "    </tr>\n",
       "    <tr>\n",
       "      <th>895</th>\n",
       "      <td>-8.768710</td>\n",
       "      <td>3.987602</td>\n",
       "      <td>20.381588</td>\n",
       "      <td>25.381834</td>\n",
       "      <td>39.937148</td>\n",
       "      <td>64.779896</td>\n",
       "      <td>53.026529</td>\n",
       "      <td>60.877374</td>\n",
       "      <td>96.129077</td>\n",
       "      <td>111.075092</td>\n",
       "      <td>jazz</td>\n",
       "    </tr>\n",
       "    <tr>\n",
       "      <th>896</th>\n",
       "      <td>-4.393518</td>\n",
       "      <td>19.802175</td>\n",
       "      <td>15.762081</td>\n",
       "      <td>40.011495</td>\n",
       "      <td>34.117872</td>\n",
       "      <td>47.558485</td>\n",
       "      <td>53.307285</td>\n",
       "      <td>66.338300</td>\n",
       "      <td>76.216410</td>\n",
       "      <td>71.210365</td>\n",
       "      <td>jazz</td>\n",
       "    </tr>\n",
       "    <tr>\n",
       "      <th>897</th>\n",
       "      <td>7.874213</td>\n",
       "      <td>14.960790</td>\n",
       "      <td>27.058597</td>\n",
       "      <td>25.058451</td>\n",
       "      <td>36.062587</td>\n",
       "      <td>52.591125</td>\n",
       "      <td>53.276791</td>\n",
       "      <td>85.413482</td>\n",
       "      <td>70.506658</td>\n",
       "      <td>83.810104</td>\n",
       "      <td>jazz</td>\n",
       "    </tr>\n",
       "    <tr>\n",
       "      <th>898</th>\n",
       "      <td>-4.410361</td>\n",
       "      <td>-0.526504</td>\n",
       "      <td>15.592582</td>\n",
       "      <td>38.051297</td>\n",
       "      <td>41.533565</td>\n",
       "      <td>45.096312</td>\n",
       "      <td>67.538675</td>\n",
       "      <td>69.194555</td>\n",
       "      <td>71.118547</td>\n",
       "      <td>92.926016</td>\n",
       "      <td>jazz</td>\n",
       "    </tr>\n",
       "    <tr>\n",
       "      <th>899</th>\n",
       "      <td>-1.060167</td>\n",
       "      <td>16.662801</td>\n",
       "      <td>16.448968</td>\n",
       "      <td>30.406299</td>\n",
       "      <td>43.936034</td>\n",
       "      <td>48.327323</td>\n",
       "      <td>53.417171</td>\n",
       "      <td>63.353982</td>\n",
       "      <td>67.298144</td>\n",
       "      <td>91.095907</td>\n",
       "      <td>jazz</td>\n",
       "    </tr>\n",
       "  </tbody>\n",
       "</table>\n",
       "<p>900 rows × 11 columns</p>\n",
       "</div>"
      ],
      "text/plain": [
       "         tempo      rythm      pitch  acousticness  danceability     energy  \\\n",
       "0    10.652692  16.042400  24.565548     26.272129     45.647680  58.632068   \n",
       "1     5.722232  17.035886  15.896998     30.542138     45.783895  47.886595   \n",
       "2   -12.363202   8.080350  22.206259     28.204266     54.067783  55.704987   \n",
       "3    -0.067071   4.439547  16.885748     30.573906     35.575125  65.921801   \n",
       "4     4.970688   6.228799  25.188235     29.065907     35.151767  57.690875   \n",
       "..         ...        ...        ...           ...           ...        ...   \n",
       "895  -8.768710   3.987602  20.381588     25.381834     39.937148  64.779896   \n",
       "896  -4.393518  19.802175  15.762081     40.011495     34.117872  47.558485   \n",
       "897   7.874213  14.960790  27.058597     25.058451     36.062587  52.591125   \n",
       "898  -4.410361  -0.526504  15.592582     38.051297     41.533565  45.096312   \n",
       "899  -1.060167  16.662801  16.448968     30.406299     43.936034  48.327323   \n",
       "\n",
       "     instrumentalness   loudness    liveness     valence      class  \n",
       "0           45.045855  67.675526   80.165594   90.417547  pop music  \n",
       "1           54.478161  80.577335   77.942159   76.989651  pop music  \n",
       "2           64.482570  61.861936   83.913536   93.484662  pop music  \n",
       "3           64.191040  78.823812   71.224372   93.153639  pop music  \n",
       "4           58.618101  66.280558  102.556176   91.872643  pop music  \n",
       "..                ...        ...         ...         ...        ...  \n",
       "895         53.026529  60.877374   96.129077  111.075092       jazz  \n",
       "896         53.307285  66.338300   76.216410   71.210365       jazz  \n",
       "897         53.276791  85.413482   70.506658   83.810104       jazz  \n",
       "898         67.538675  69.194555   71.118547   92.926016       jazz  \n",
       "899         53.417171  63.353982   67.298144   91.095907       jazz  \n",
       "\n",
       "[900 rows x 11 columns]"
      ]
     },
     "execution_count": 10,
     "metadata": {},
     "output_type": "execute_result"
    }
   ],
   "source": [
    "df2 = df2_copy\n",
    "df2"
   ]
  },
  {
   "cell_type": "code",
   "execution_count": 11,
   "metadata": {},
   "outputs": [
    {
     "name": "stdout",
     "output_type": "stream",
     "text": [
      "<class 'pandas.core.frame.DataFrame'>\n",
      "RangeIndex: 900 entries, 0 to 899\n",
      "Data columns (total 11 columns):\n",
      " #   Column            Non-Null Count  Dtype  \n",
      "---  ------            --------------  -----  \n",
      " 0   tempo             900 non-null    float64\n",
      " 1   rythm             900 non-null    float64\n",
      " 2   pitch             900 non-null    float64\n",
      " 3   acousticness      900 non-null    float64\n",
      " 4   danceability      900 non-null    float64\n",
      " 5   energy            900 non-null    float64\n",
      " 6   instrumentalness  900 non-null    float64\n",
      " 7   loudness          900 non-null    float64\n",
      " 8   liveness          900 non-null    float64\n",
      " 9   valence           900 non-null    float64\n",
      " 10  class             900 non-null    object \n",
      "dtypes: float64(10), object(1)\n",
      "memory usage: 77.5+ KB\n"
     ]
    }
   ],
   "source": [
    "df2.info()"
   ]
  },
  {
   "cell_type": "markdown",
   "metadata": {},
   "source": [
    "-------------------------------------"
   ]
  },
  {
   "cell_type": "markdown",
   "metadata": {},
   "source": [
    "Phase 3: Representation and Alteration of the variables (columns) of the dataset\n",
    "\n",
    "Notes: <br>\n",
    "<li>In this phase, we wil give the rows of the dataset a presumed representation by renaming it according to the type of observation they are based on our given theme in Phase 2. </li>\n",
    "<li>In this case, each observation represents a certain \"song\" or music. </li>\n",
    "<li>Each value in the row id column will be renamed as \"Song\" plus the id number of the observation (ex. Song 102). </li>"
   ]
  },
  {
   "cell_type": "code",
   "execution_count": 12,
   "metadata": {},
   "outputs": [],
   "source": [
    "df2_copy = df2\n",
    "\n",
    "rows = ['Song ' + str(x) for x in range(df2_copy.shape[0])]\n",
    "df2_copy.index = rows"
   ]
  },
  {
   "cell_type": "code",
   "execution_count": 13,
   "metadata": {},
   "outputs": [
    {
     "data": {
      "text/html": [
       "<div>\n",
       "<style scoped>\n",
       "    .dataframe tbody tr th:only-of-type {\n",
       "        vertical-align: middle;\n",
       "    }\n",
       "\n",
       "    .dataframe tbody tr th {\n",
       "        vertical-align: top;\n",
       "    }\n",
       "\n",
       "    .dataframe thead th {\n",
       "        text-align: right;\n",
       "    }\n",
       "</style>\n",
       "<table border=\"1\" class=\"dataframe\">\n",
       "  <thead>\n",
       "    <tr style=\"text-align: right;\">\n",
       "      <th></th>\n",
       "      <th>tempo</th>\n",
       "      <th>rythm</th>\n",
       "      <th>pitch</th>\n",
       "      <th>acousticness</th>\n",
       "      <th>danceability</th>\n",
       "      <th>energy</th>\n",
       "      <th>instrumentalness</th>\n",
       "      <th>loudness</th>\n",
       "      <th>liveness</th>\n",
       "      <th>valence</th>\n",
       "      <th>class</th>\n",
       "    </tr>\n",
       "  </thead>\n",
       "  <tbody>\n",
       "    <tr>\n",
       "      <th>Song 0</th>\n",
       "      <td>10.652692</td>\n",
       "      <td>16.042400</td>\n",
       "      <td>24.565548</td>\n",
       "      <td>26.272129</td>\n",
       "      <td>45.647680</td>\n",
       "      <td>58.632068</td>\n",
       "      <td>45.045855</td>\n",
       "      <td>67.675526</td>\n",
       "      <td>80.165594</td>\n",
       "      <td>90.417547</td>\n",
       "      <td>pop music</td>\n",
       "    </tr>\n",
       "    <tr>\n",
       "      <th>Song 1</th>\n",
       "      <td>5.722232</td>\n",
       "      <td>17.035886</td>\n",
       "      <td>15.896998</td>\n",
       "      <td>30.542138</td>\n",
       "      <td>45.783895</td>\n",
       "      <td>47.886595</td>\n",
       "      <td>54.478161</td>\n",
       "      <td>80.577335</td>\n",
       "      <td>77.942159</td>\n",
       "      <td>76.989651</td>\n",
       "      <td>pop music</td>\n",
       "    </tr>\n",
       "    <tr>\n",
       "      <th>Song 2</th>\n",
       "      <td>-12.363202</td>\n",
       "      <td>8.080350</td>\n",
       "      <td>22.206259</td>\n",
       "      <td>28.204266</td>\n",
       "      <td>54.067783</td>\n",
       "      <td>55.704987</td>\n",
       "      <td>64.482570</td>\n",
       "      <td>61.861936</td>\n",
       "      <td>83.913536</td>\n",
       "      <td>93.484662</td>\n",
       "      <td>pop music</td>\n",
       "    </tr>\n",
       "    <tr>\n",
       "      <th>Song 3</th>\n",
       "      <td>-0.067071</td>\n",
       "      <td>4.439547</td>\n",
       "      <td>16.885748</td>\n",
       "      <td>30.573906</td>\n",
       "      <td>35.575125</td>\n",
       "      <td>65.921801</td>\n",
       "      <td>64.191040</td>\n",
       "      <td>78.823812</td>\n",
       "      <td>71.224372</td>\n",
       "      <td>93.153639</td>\n",
       "      <td>pop music</td>\n",
       "    </tr>\n",
       "    <tr>\n",
       "      <th>Song 4</th>\n",
       "      <td>4.970688</td>\n",
       "      <td>6.228799</td>\n",
       "      <td>25.188235</td>\n",
       "      <td>29.065907</td>\n",
       "      <td>35.151767</td>\n",
       "      <td>57.690875</td>\n",
       "      <td>58.618101</td>\n",
       "      <td>66.280558</td>\n",
       "      <td>102.556176</td>\n",
       "      <td>91.872643</td>\n",
       "      <td>pop music</td>\n",
       "    </tr>\n",
       "    <tr>\n",
       "      <th>...</th>\n",
       "      <td>...</td>\n",
       "      <td>...</td>\n",
       "      <td>...</td>\n",
       "      <td>...</td>\n",
       "      <td>...</td>\n",
       "      <td>...</td>\n",
       "      <td>...</td>\n",
       "      <td>...</td>\n",
       "      <td>...</td>\n",
       "      <td>...</td>\n",
       "      <td>...</td>\n",
       "    </tr>\n",
       "    <tr>\n",
       "      <th>Song 895</th>\n",
       "      <td>-8.768710</td>\n",
       "      <td>3.987602</td>\n",
       "      <td>20.381588</td>\n",
       "      <td>25.381834</td>\n",
       "      <td>39.937148</td>\n",
       "      <td>64.779896</td>\n",
       "      <td>53.026529</td>\n",
       "      <td>60.877374</td>\n",
       "      <td>96.129077</td>\n",
       "      <td>111.075092</td>\n",
       "      <td>jazz</td>\n",
       "    </tr>\n",
       "    <tr>\n",
       "      <th>Song 896</th>\n",
       "      <td>-4.393518</td>\n",
       "      <td>19.802175</td>\n",
       "      <td>15.762081</td>\n",
       "      <td>40.011495</td>\n",
       "      <td>34.117872</td>\n",
       "      <td>47.558485</td>\n",
       "      <td>53.307285</td>\n",
       "      <td>66.338300</td>\n",
       "      <td>76.216410</td>\n",
       "      <td>71.210365</td>\n",
       "      <td>jazz</td>\n",
       "    </tr>\n",
       "    <tr>\n",
       "      <th>Song 897</th>\n",
       "      <td>7.874213</td>\n",
       "      <td>14.960790</td>\n",
       "      <td>27.058597</td>\n",
       "      <td>25.058451</td>\n",
       "      <td>36.062587</td>\n",
       "      <td>52.591125</td>\n",
       "      <td>53.276791</td>\n",
       "      <td>85.413482</td>\n",
       "      <td>70.506658</td>\n",
       "      <td>83.810104</td>\n",
       "      <td>jazz</td>\n",
       "    </tr>\n",
       "    <tr>\n",
       "      <th>Song 898</th>\n",
       "      <td>-4.410361</td>\n",
       "      <td>-0.526504</td>\n",
       "      <td>15.592582</td>\n",
       "      <td>38.051297</td>\n",
       "      <td>41.533565</td>\n",
       "      <td>45.096312</td>\n",
       "      <td>67.538675</td>\n",
       "      <td>69.194555</td>\n",
       "      <td>71.118547</td>\n",
       "      <td>92.926016</td>\n",
       "      <td>jazz</td>\n",
       "    </tr>\n",
       "    <tr>\n",
       "      <th>Song 899</th>\n",
       "      <td>-1.060167</td>\n",
       "      <td>16.662801</td>\n",
       "      <td>16.448968</td>\n",
       "      <td>30.406299</td>\n",
       "      <td>43.936034</td>\n",
       "      <td>48.327323</td>\n",
       "      <td>53.417171</td>\n",
       "      <td>63.353982</td>\n",
       "      <td>67.298144</td>\n",
       "      <td>91.095907</td>\n",
       "      <td>jazz</td>\n",
       "    </tr>\n",
       "  </tbody>\n",
       "</table>\n",
       "<p>900 rows × 11 columns</p>\n",
       "</div>"
      ],
      "text/plain": [
       "              tempo      rythm      pitch  acousticness  danceability  \\\n",
       "Song 0    10.652692  16.042400  24.565548     26.272129     45.647680   \n",
       "Song 1     5.722232  17.035886  15.896998     30.542138     45.783895   \n",
       "Song 2   -12.363202   8.080350  22.206259     28.204266     54.067783   \n",
       "Song 3    -0.067071   4.439547  16.885748     30.573906     35.575125   \n",
       "Song 4     4.970688   6.228799  25.188235     29.065907     35.151767   \n",
       "...             ...        ...        ...           ...           ...   \n",
       "Song 895  -8.768710   3.987602  20.381588     25.381834     39.937148   \n",
       "Song 896  -4.393518  19.802175  15.762081     40.011495     34.117872   \n",
       "Song 897   7.874213  14.960790  27.058597     25.058451     36.062587   \n",
       "Song 898  -4.410361  -0.526504  15.592582     38.051297     41.533565   \n",
       "Song 899  -1.060167  16.662801  16.448968     30.406299     43.936034   \n",
       "\n",
       "             energy  instrumentalness   loudness    liveness     valence  \\\n",
       "Song 0    58.632068         45.045855  67.675526   80.165594   90.417547   \n",
       "Song 1    47.886595         54.478161  80.577335   77.942159   76.989651   \n",
       "Song 2    55.704987         64.482570  61.861936   83.913536   93.484662   \n",
       "Song 3    65.921801         64.191040  78.823812   71.224372   93.153639   \n",
       "Song 4    57.690875         58.618101  66.280558  102.556176   91.872643   \n",
       "...             ...               ...        ...         ...         ...   \n",
       "Song 895  64.779896         53.026529  60.877374   96.129077  111.075092   \n",
       "Song 896  47.558485         53.307285  66.338300   76.216410   71.210365   \n",
       "Song 897  52.591125         53.276791  85.413482   70.506658   83.810104   \n",
       "Song 898  45.096312         67.538675  69.194555   71.118547   92.926016   \n",
       "Song 899  48.327323         53.417171  63.353982   67.298144   91.095907   \n",
       "\n",
       "              class  \n",
       "Song 0    pop music  \n",
       "Song 1    pop music  \n",
       "Song 2    pop music  \n",
       "Song 3    pop music  \n",
       "Song 4    pop music  \n",
       "...             ...  \n",
       "Song 895       jazz  \n",
       "Song 896       jazz  \n",
       "Song 897       jazz  \n",
       "Song 898       jazz  \n",
       "Song 899       jazz  \n",
       "\n",
       "[900 rows x 11 columns]"
      ]
     },
     "execution_count": 13,
     "metadata": {},
     "output_type": "execute_result"
    }
   ],
   "source": [
    "df2 = df2_copy\n",
    "df2"
   ]
  },
  {
   "cell_type": "code",
   "execution_count": 14,
   "metadata": {},
   "outputs": [
    {
     "name": "stdout",
     "output_type": "stream",
     "text": [
      "<class 'pandas.core.frame.DataFrame'>\n",
      "Index: 900 entries, Song 0 to Song 899\n",
      "Data columns (total 11 columns):\n",
      " #   Column            Non-Null Count  Dtype  \n",
      "---  ------            --------------  -----  \n",
      " 0   tempo             900 non-null    float64\n",
      " 1   rythm             900 non-null    float64\n",
      " 2   pitch             900 non-null    float64\n",
      " 3   acousticness      900 non-null    float64\n",
      " 4   danceability      900 non-null    float64\n",
      " 5   energy            900 non-null    float64\n",
      " 6   instrumentalness  900 non-null    float64\n",
      " 7   loudness          900 non-null    float64\n",
      " 8   liveness          900 non-null    float64\n",
      " 9   valence           900 non-null    float64\n",
      " 10  class             900 non-null    object \n",
      "dtypes: float64(10), object(1)\n",
      "memory usage: 84.4+ KB\n"
     ]
    }
   ],
   "source": [
    "df2.info()"
   ]
  },
  {
   "cell_type": "code",
   "execution_count": 15,
   "metadata": {},
   "outputs": [],
   "source": [
    "df3 = df2_copy"
   ]
  },
  {
   "cell_type": "markdown",
   "metadata": {},
   "source": [
    "### Exploratory Data Analysis\n"
   ]
  },
  {
   "cell_type": "markdown",
   "metadata": {},
   "source": [
    "EDA is an approach to analyzing datasets to summarize their main characteristics, often with visual methods. This approach will also help us to have a better understanding of the data.\n",
    "Visualizing the data is an essential for us to get a better understanding of the data and the possible relation of the variables."
   ]
  },
  {
   "cell_type": "markdown",
   "metadata": {},
   "source": [
    "First let us look at the mean of the song attributes per genre."
   ]
  },
  {
   "cell_type": "code",
   "execution_count": 16,
   "metadata": {},
   "outputs": [
    {
     "data": {
      "text/html": [
       "<div>\n",
       "<style scoped>\n",
       "    .dataframe tbody tr th:only-of-type {\n",
       "        vertical-align: middle;\n",
       "    }\n",
       "\n",
       "    .dataframe tbody tr th {\n",
       "        vertical-align: top;\n",
       "    }\n",
       "\n",
       "    .dataframe thead th {\n",
       "        text-align: right;\n",
       "    }\n",
       "</style>\n",
       "<table border=\"1\" class=\"dataframe\">\n",
       "  <thead>\n",
       "    <tr style=\"text-align: right;\">\n",
       "      <th></th>\n",
       "      <th>energy</th>\n",
       "      <th>tempo</th>\n",
       "      <th>rythm</th>\n",
       "      <th>pitch</th>\n",
       "      <th>acousticness</th>\n",
       "      <th>danceability</th>\n",
       "      <th>instrumentalness</th>\n",
       "      <th>loudness</th>\n",
       "      <th>liveness</th>\n",
       "      <th>valence</th>\n",
       "    </tr>\n",
       "    <tr>\n",
       "      <th>class</th>\n",
       "      <th></th>\n",
       "      <th></th>\n",
       "      <th></th>\n",
       "      <th></th>\n",
       "      <th></th>\n",
       "      <th></th>\n",
       "      <th></th>\n",
       "      <th></th>\n",
       "      <th></th>\n",
       "      <th></th>\n",
       "    </tr>\n",
       "  </thead>\n",
       "  <tbody>\n",
       "    <tr>\n",
       "      <th>jazz</th>\n",
       "      <td>50.710557</td>\n",
       "      <td>0.299108</td>\n",
       "      <td>10.834086</td>\n",
       "      <td>19.806691</td>\n",
       "      <td>29.954238</td>\n",
       "      <td>39.893907</td>\n",
       "      <td>60.297078</td>\n",
       "      <td>70.576501</td>\n",
       "      <td>80.565860</td>\n",
       "      <td>91.080241</td>\n",
       "    </tr>\n",
       "    <tr>\n",
       "      <th>alternative rock</th>\n",
       "      <td>50.277725</td>\n",
       "      <td>-0.007877</td>\n",
       "      <td>9.712384</td>\n",
       "      <td>19.029634</td>\n",
       "      <td>29.765975</td>\n",
       "      <td>39.435776</td>\n",
       "      <td>59.028581</td>\n",
       "      <td>69.927267</td>\n",
       "      <td>79.994343</td>\n",
       "      <td>90.142535</td>\n",
       "    </tr>\n",
       "    <tr>\n",
       "      <th>pop music</th>\n",
       "      <td>49.591542</td>\n",
       "      <td>0.332555</td>\n",
       "      <td>9.897191</td>\n",
       "      <td>19.465813</td>\n",
       "      <td>30.265485</td>\n",
       "      <td>40.103070</td>\n",
       "      <td>59.459318</td>\n",
       "      <td>69.826046</td>\n",
       "      <td>79.597643</td>\n",
       "      <td>90.215948</td>\n",
       "    </tr>\n",
       "  </tbody>\n",
       "</table>\n",
       "</div>"
      ],
      "text/plain": [
       "                     energy     tempo      rythm      pitch  acousticness  \\\n",
       "class                                                                       \n",
       "jazz              50.710557  0.299108  10.834086  19.806691     29.954238   \n",
       "alternative rock  50.277725 -0.007877   9.712384  19.029634     29.765975   \n",
       "pop music         49.591542  0.332555   9.897191  19.465813     30.265485   \n",
       "\n",
       "                  danceability  instrumentalness   loudness   liveness  \\\n",
       "class                                                                    \n",
       "jazz                 39.893907         60.297078  70.576501  80.565860   \n",
       "alternative rock     39.435776         59.028581  69.927267  79.994343   \n",
       "pop music            40.103070         59.459318  69.826046  79.597643   \n",
       "\n",
       "                    valence  \n",
       "class                        \n",
       "jazz              91.080241  \n",
       "alternative rock  90.142535  \n",
       "pop music         90.215948  "
      ]
     },
     "execution_count": 16,
     "metadata": {},
     "output_type": "execute_result"
    }
   ],
   "source": [
    "df3[['class','energy','tempo','rythm','pitch','acousticness','danceability', 'instrumentalness','loudness','liveness','valence']].groupby('class').mean().sort_values(by='energy', ascending=False)[:3]"
   ]
  },
  {
   "cell_type": "markdown",
   "metadata": {},
   "source": [
    "Upon observing the table above, we can see that the average values of each song attribute per genre are close to each other and do not differ much. "
   ]
  },
  {
   "cell_type": "markdown",
   "metadata": {},
   "source": [
    "Now, let us get a visual representation of this using a plot."
   ]
  },
  {
   "cell_type": "code",
   "execution_count": 17,
   "metadata": {},
   "outputs": [
    {
     "data": {
      "text/plain": [
       "<AxesSubplot:xlabel='class'>"
      ]
     },
     "execution_count": 17,
     "metadata": {},
     "output_type": "execute_result"
    },
    {
     "data": {
      "image/png": "[encoded data removed]",
      "text/plain": [
       "<Figure size 432x288 with 1 Axes>"
      ]
     },
     "metadata": {
      "needs_background": "light"
     },
     "output_type": "display_data"
    }
   ],
   "source": [
    "df3.groupby('class')['energy'].mean().plot()\n",
    "df3.groupby('class')['tempo'].mean().plot()\n",
    "df3.groupby('class')['rythm'].mean().plot()\n",
    "df3.groupby('class')['pitch'].mean().plot()\n",
    "df3.groupby('class')['acousticness'].mean().plot()\n",
    "df3.groupby('class')['danceability'].mean().plot()\n",
    "df3.groupby('class')['instrumentalness'].mean().plot()\n",
    "df3.groupby('class')['loudness'].mean().plot()\n",
    "df3.groupby('class')['liveness'].mean().plot()\n",
    "df3.groupby('class')['valence'].mean().plot()"
   ]
  },
  {
   "cell_type": "code",
   "execution_count": 20,
   "metadata": {},
   "outputs": [
    {
     "data": {
      "text/plain": [
       "<AxesSubplot:title={'center':'Energy'}, xlabel='class'>"
      ]
     },
     "execution_count": 20,
     "metadata": {},
     "output_type": "execute_result"
    },
    {
     "data": {
      "image/png": "[encoded data removed]",
      "text/plain": [
       "<Figure size 432x288 with 1 Axes>"
      ]
     },
     "metadata": {
      "needs_background": "light"
     },
     "output_type": "display_data"
    }
   ],
   "source": [
    "df3.groupby('class')['energy'].mean().plot(title='Energy')\n"
   ]
  },
  {
   "cell_type": "code",
   "execution_count": 21,
   "metadata": {},
   "outputs": [
    {
     "data": {
      "text/plain": [
       "<AxesSubplot:title={'center':'Tempo'}, xlabel='class'>"
      ]
     },
     "execution_count": 21,
     "metadata": {},
     "output_type": "execute_result"
    },
    {
     "data": {
      "image/png": "[encoded data removed]",
      "text/plain": [
       "<Figure size 432x288 with 1 Axes>"
      ]
     },
     "metadata": {
      "needs_background": "light"
     },
     "output_type": "display_data"
    }
   ],
   "source": [
    "df3.groupby('class')['tempo'].mean().plot(title='Tempo')"
   ]
  },
  {
   "cell_type": "code",
   "execution_count": 22,
   "metadata": {},
   "outputs": [
    {
     "data": {
      "text/plain": [
       "<AxesSubplot:title={'center':'Rhythm'}, xlabel='class'>"
      ]
     },
     "execution_count": 22,
     "metadata": {},
     "output_type": "execute_result"
    },
    {
     "data": {
      "image/png": "[encoded data removed]",
      "text/plain": [
       "<Figure size 432x288 with 1 Axes>"
      ]
     },
     "metadata": {
      "needs_background": "light"
     },
     "output_type": "display_data"
    }
   ],
   "source": [
    "df3.groupby('class')['rythm'].mean().plot(title='Rhythm')"
   ]
  },
  {
   "cell_type": "code",
   "execution_count": 23,
   "metadata": {},
   "outputs": [
    {
     "data": {
      "text/plain": [
       "<AxesSubplot:title={'center':'Pitch'}, xlabel='class'>"
      ]
     },
     "execution_count": 23,
     "metadata": {},
     "output_type": "execute_result"
    },
    {
     "data": {
      "image/png": "[encoded data removed]",
      "text/plain": [
       "<Figure size 432x288 with 1 Axes>"
      ]
     },
     "metadata": {
      "needs_background": "light"
     },
     "output_type": "display_data"
    }
   ],
   "source": [
    "df3.groupby('class')['pitch'].mean().plot(title='Pitch')"
   ]
  },
  {
   "cell_type": "code",
   "execution_count": 24,
   "metadata": {},
   "outputs": [
    {
     "data": {
      "text/plain": [
       "<AxesSubplot:title={'center':'Acousticness'}, xlabel='class'>"
      ]
     },
     "execution_count": 24,
     "metadata": {},
     "output_type": "execute_result"
    },
    {
     "data": {
      "image/png": "[encoded data removed]",
      "text/plain": [
       "<Figure size 432x288 with 1 Axes>"
      ]
     },
     "metadata": {
      "needs_background": "light"
     },
     "output_type": "display_data"
    }
   ],
   "source": [
    "df3.groupby('class')['acousticness'].mean().plot(title='Acousticness')"
   ]
  },
  {
   "cell_type": "code",
   "execution_count": 25,
   "metadata": {},
   "outputs": [
    {
     "data": {
      "text/plain": [
       "<AxesSubplot:title={'center':'Danceability'}, xlabel='class'>"
      ]
     },
     "execution_count": 25,
     "metadata": {},
     "output_type": "execute_result"
    },
    {
     "data": {
      "image/png": "[encoded data removed]",
      "text/plain": [
       "<Figure size 432x288 with 1 Axes>"
      ]
     },
     "metadata": {
      "needs_background": "light"
     },
     "output_type": "display_data"
    }
   ],
   "source": [
    "df3.groupby('class')['danceability'].mean().plot(title='Danceability')"
   ]
  },
  {
   "cell_type": "code",
   "execution_count": 26,
   "metadata": {},
   "outputs": [
    {
     "data": {
      "text/plain": [
       "<AxesSubplot:title={'center':'Instrumentalness'}, xlabel='class'>"
      ]
     },
     "execution_count": 26,
     "metadata": {},
     "output_type": "execute_result"
    },
    {
     "data": {
      "image/png": "[encoded data removed]",
      "text/plain": [
       "<Figure size 432x288 with 1 Axes>"
      ]
     },
     "metadata": {
      "needs_background": "light"
     },
     "output_type": "display_data"
    }
   ],
   "source": [
    "df3.groupby('class')['instrumentalness'].mean().plot(title='Instrumentalness')"
   ]
  },
  {
   "cell_type": "code",
   "execution_count": 27,
   "metadata": {},
   "outputs": [
    {
     "data": {
      "text/plain": [
       "<AxesSubplot:title={'center':'Loudness'}, xlabel='class'>"
      ]
     },
     "execution_count": 27,
     "metadata": {},
     "output_type": "execute_result"
    },
    {
     "data": {
      "image/png": "[encoded data removed]",
      "text/plain": [
       "<Figure size 432x288 with 1 Axes>"
      ]
     },
     "metadata": {
      "needs_background": "light"
     },
     "output_type": "display_data"
    }
   ],
   "source": [
    "df3.groupby('class')['loudness'].mean().plot(title='Loudness')"
   ]
  },
  {
   "cell_type": "code",
   "execution_count": 28,
   "metadata": {},
   "outputs": [
    {
     "data": {
      "text/plain": [
       "<AxesSubplot:title={'center':'Liveness'}, xlabel='class'>"
      ]
     },
     "execution_count": 28,
     "metadata": {},
     "output_type": "execute_result"
    },
    {
     "data": {
      "image/png": "[encoded data removed]",
      "text/plain": [
       "<Figure size 432x288 with 1 Axes>"
      ]
     },
     "metadata": {
      "needs_background": "light"
     },
     "output_type": "display_data"
    }
   ],
   "source": [
    "df3.groupby('class')['liveness'].mean().plot(title='Liveness')"
   ]
  },
  {
   "cell_type": "code",
   "execution_count": 29,
   "metadata": {},
   "outputs": [
    {
     "data": {
      "text/plain": [
       "<AxesSubplot:title={'center':'Valence'}, xlabel='class'>"
      ]
     },
     "execution_count": 29,
     "metadata": {},
     "output_type": "execute_result"
    },
    {
     "data": {
      "image/png": "[encoded data removed]",
      "text/plain": [
       "<Figure size 432x288 with 1 Axes>"
      ]
     },
     "metadata": {
      "needs_background": "light"
     },
     "output_type": "display_data"
    }
   ],
   "source": [
    "df3.groupby('class')['valence'].mean().plot(title='Valence')"
   ]
  },
  {
   "cell_type": "markdown",
   "metadata": {},
   "source": []
  },
  {
   "cell_type": "code",
   "execution_count": 28,
   "metadata": {},
   "outputs": [
    {
     "data": {
      "image/png": "[encoded data removed]",
      "text/plain": [
       "<Figure size 936x576 with 1 Axes>"
      ]
     },
     "metadata": {},
     "output_type": "display_data"
    }
   ],
   "source": [
    "# Plot boxplot \n",
    "\n",
    "sns.set(rc={'figure.figsize':(13,8)})\n",
    "sns.boxplot(data=df3.drop(['class'], axis=1))\n",
    "plt.xlabel('Features')\n",
    "plt.ylabel('Value')\n",
    "plt.show()"
   ]
  },
  {
   "cell_type": "markdown",
   "metadata": {},
   "source": [
    "As we can see in the boxplot above, there is a pattern on how these variables behave. The variables are not related to each other and have a different range of values per attribute. \n",
    "\n",
    "While inspecting the box plot, we notice how each box plot is comparatively short. This suggests that overall, each song attribute have a high level of similarity with each other. "
   ]
  },
  {
   "cell_type": "markdown",
   "metadata": {},
   "source": [
    "**EDA Q1.) Is there a correlation between the song attributes in the dataset?**"
   ]
  },
  {
   "cell_type": "markdown",
   "metadata": {},
   "source": [
    "To answer this question, we can observe the correlation matrix. This is a commonly used tool to gain a better understanding of how much the variables are related to each other. \n",
    "\n"
   ]
  },
  {
   "cell_type": "code",
   "execution_count": 64,
   "metadata": {},
   "outputs": [
    {
     "data": {
      "image/png": "[encoded data removed]",
      "text/plain": [
       "<Figure size 1080x720 with 2 Axes>"
      ]
     },
     "metadata": {},
     "output_type": "display_data"
    }
   ],
   "source": [
    "# Plot linear correlation matrix\n",
    "\n",
    "fig, ax = plt.subplots(figsize=(15,10))\n",
    "sns.heatmap(df3.corr(), annot=True, cmap='YlGnBu', vmin=-1, vmax=1, center=0, ax=ax)\n",
    "plt.title('LINEAR CORRELATION MATRIX')\n",
    "plt.show()"
   ]
  },
  {
   "cell_type": "markdown",
   "metadata": {},
   "source": [
    "The correlation matrix shown above confirms what we already noticed previoulsy: most of the variables are negatively related, meaning that they do not show a similar trend or behavior. \n",
    "\n",
    "A **positive correlation** is when the correlation coefficient is greater than 0. This signifies that both variables move in the same direction. While a **negative correlation** occurs when the correlation coefficient is less than 0. This is an indication that both variables move in the opposite direction.\n",
    "\n",
    "**Findings:**\n",
    "\n",
    "Upon observation of the linear correlation matrix, there seems to a strong **negative correlation** between  `loudness ` and  `rythm ` (-0.062), `acousticness ` and  `rythm ` (-0.062), as well as `valence ` and `rythm ` (-0.055). While on the other hand, the strongest **positive correlation** in the matrix is between `energy ` and `danceability ` with a corelation coefficient of (0.059). \n",
    "\n"
   ]
  },
  {
   "cell_type": "code",
   "execution_count": null,
   "metadata": {},
   "outputs": [],
   "source": []
  },
  {
   "cell_type": "markdown",
   "metadata": {},
   "source": [
    "**EDA Q2.) Are there certain song attributes that stand out per genre?**"
   ]
  },
  {
   "cell_type": "markdown",
   "metadata": {},
   "source": [
    "To answer this question, we will compare the song attribute values using their mean values per genre. \n",
    "\n",
    "**Findings:**\n",
    "\n",
    "Compared to the other two genres, **Jazz** seems to stand out in the following song attributes: \n",
    "- Energy (avg : 50.71)\n",
    "- Rythm  (avg : 10.83)\n",
    "- Pitch (avg : 19.81)\n",
    "- Instrumentalness(avg : 60.30)\n",
    "- Loudness(avg : 70.58)\n",
    "- Liveness(avg : 80.57)\n",
    "- Valence (avg : 91.08)\n",
    "\n",
    "while **Pop Music** lead the following attributes: \n",
    "- Tempo (avg : 0.33)\n",
    "- Acousticness(avg : 30.27)\n",
    "- Danceability (avg : 40.10)\n",
    "\n",
    "Although it is noted that the differences in the mean of the attributes per genre are relatively close to each other as shown in the previous table above.\n"
   ]
  },
  {
   "cell_type": "code",
   "execution_count": 41,
   "metadata": {},
   "outputs": [
    {
     "data": {
      "image/png": "[encoded data removed]",
      "text/plain": [
       "<Figure size 432x288 with 1 Axes>"
      ]
     },
     "metadata": {
      "needs_background": "light"
     },
     "output_type": "display_data"
    }
   ],
   "source": [
    "\n",
    "test_df_1 = df3[df3['class'] == 'jazz']\n",
    "\n",
    "plt.hist(test_df_1['energy'], \n",
    "         alpha=0.5, # the transaparency parameter\n",
    "         label='Jazz')\n",
    "\n",
    "\n",
    "test_df_2 = df3[df3['class'] == 'pop music']\n",
    "\n",
    "plt.hist(test_df_2['energy'], \n",
    "         alpha=0.5, # the transaparency parameter\n",
    "         label='Pop Music')\n",
    "\n",
    "\n",
    "\n",
    "test_df_3 = df3[df3['class'] == 'alternative rock']\n",
    "\n",
    "plt.hist(test_df_3['energy'], \n",
    "         alpha=0.5, # the transaparency parameter\n",
    "         label='Alternative Rock')\n",
    "\n",
    "  \n",
    "plt.legend(loc='upper right')\n",
    "plt.title('Energy')\n",
    "plt.show()\n"
   ]
  },
  {
   "cell_type": "code",
   "execution_count": 51,
   "metadata": {},
   "outputs": [
    {
     "data": {
      "text/html": [
       "<div>\n",
       "<style scoped>\n",
       "    .dataframe tbody tr th:only-of-type {\n",
       "        vertical-align: middle;\n",
       "    }\n",
       "\n",
       "    .dataframe tbody tr th {\n",
       "        vertical-align: top;\n",
       "    }\n",
       "\n",
       "    .dataframe thead th {\n",
       "        text-align: right;\n",
       "    }\n",
       "</style>\n",
       "<table border=\"1\" class=\"dataframe\">\n",
       "  <thead>\n",
       "    <tr style=\"text-align: right;\">\n",
       "      <th></th>\n",
       "      <th>energy</th>\n",
       "    </tr>\n",
       "    <tr>\n",
       "      <th>class</th>\n",
       "      <th></th>\n",
       "    </tr>\n",
       "  </thead>\n",
       "  <tbody>\n",
       "    <tr>\n",
       "      <th>jazz</th>\n",
       "      <td>50.710557</td>\n",
       "    </tr>\n",
       "    <tr>\n",
       "      <th>alternative rock</th>\n",
       "      <td>50.277725</td>\n",
       "    </tr>\n",
       "    <tr>\n",
       "      <th>pop music</th>\n",
       "      <td>49.591542</td>\n",
       "    </tr>\n",
       "  </tbody>\n",
       "</table>\n",
       "</div>"
      ],
      "text/plain": [
       "                     energy\n",
       "class                      \n",
       "jazz              50.710557\n",
       "alternative rock  50.277725\n",
       "pop music         49.591542"
      ]
     },
     "execution_count": 51,
     "metadata": {},
     "output_type": "execute_result"
    }
   ],
   "source": [
    "df3[['class','energy']].groupby('class').mean().sort_values(by='energy', ascending=False)[:3]"
   ]
  },
  {
   "cell_type": "code",
   "execution_count": 42,
   "metadata": {},
   "outputs": [
    {
     "data": {
      "image/png": "[encoded data removed]",
      "text/plain": [
       "<Figure size 432x288 with 1 Axes>"
      ]
     },
     "metadata": {
      "needs_background": "light"
     },
     "output_type": "display_data"
    }
   ],
   "source": [
    "\n",
    "test_df_1 = df3[df3['class'] == 'jazz']\n",
    "\n",
    "plt.hist(test_df_1['tempo'], \n",
    "         alpha=0.5, # the transaparency parameter\n",
    "         label='Jazz')\n",
    "\n",
    "\n",
    "test_df_2 = df3[df3['class'] == 'pop music']\n",
    "\n",
    "plt.hist(test_df_2['tempo'], \n",
    "         alpha=0.5, # the transaparency parameter\n",
    "         label='Pop Music')\n",
    "\n",
    "\n",
    "\n",
    "test_df_3 = df3[df3['class'] == 'alternative rock']\n",
    "\n",
    "plt.hist(test_df_3['tempo'], \n",
    "         alpha=0.5, # the transaparency parameter\n",
    "         label='Alternative Rock')\n",
    "\n",
    "  \n",
    "plt.legend(loc='upper right')\n",
    "plt.title('Tempo')\n",
    "plt.show()"
   ]
  },
  {
   "cell_type": "code",
   "execution_count": 52,
   "metadata": {},
   "outputs": [
    {
     "data": {
      "text/html": [
       "<div>\n",
       "<style scoped>\n",
       "    .dataframe tbody tr th:only-of-type {\n",
       "        vertical-align: middle;\n",
       "    }\n",
       "\n",
       "    .dataframe tbody tr th {\n",
       "        vertical-align: top;\n",
       "    }\n",
       "\n",
       "    .dataframe thead th {\n",
       "        text-align: right;\n",
       "    }\n",
       "</style>\n",
       "<table border=\"1\" class=\"dataframe\">\n",
       "  <thead>\n",
       "    <tr style=\"text-align: right;\">\n",
       "      <th></th>\n",
       "      <th>tempo</th>\n",
       "    </tr>\n",
       "    <tr>\n",
       "      <th>class</th>\n",
       "      <th></th>\n",
       "    </tr>\n",
       "  </thead>\n",
       "  <tbody>\n",
       "    <tr>\n",
       "      <th>pop music</th>\n",
       "      <td>0.332555</td>\n",
       "    </tr>\n",
       "    <tr>\n",
       "      <th>jazz</th>\n",
       "      <td>0.299108</td>\n",
       "    </tr>\n",
       "    <tr>\n",
       "      <th>alternative rock</th>\n",
       "      <td>-0.007877</td>\n",
       "    </tr>\n",
       "  </tbody>\n",
       "</table>\n",
       "</div>"
      ],
      "text/plain": [
       "                     tempo\n",
       "class                     \n",
       "pop music         0.332555\n",
       "jazz              0.299108\n",
       "alternative rock -0.007877"
      ]
     },
     "execution_count": 52,
     "metadata": {},
     "output_type": "execute_result"
    }
   ],
   "source": [
    "df3[['class','tempo']].groupby('class').mean().sort_values(by='tempo', ascending=False)[:3]"
   ]
  },
  {
   "cell_type": "code",
   "execution_count": 43,
   "metadata": {},
   "outputs": [
    {
     "data": {
      "image/png": "[encoded data removed]",
      "text/plain": [
       "<Figure size 432x288 with 1 Axes>"
      ]
     },
     "metadata": {
      "needs_background": "light"
     },
     "output_type": "display_data"
    }
   ],
   "source": [
    "\n",
    "test_df_1 = df3[df3['class'] == 'jazz']\n",
    "\n",
    "plt.hist(test_df_1['rythm'], \n",
    "         alpha=0.5, # the transaparency parameter\n",
    "         label='Jazz')\n",
    "\n",
    "\n",
    "test_df_2 = df3[df3['class'] == 'pop music']\n",
    "\n",
    "plt.hist(test_df_2['rythm'], \n",
    "         alpha=0.5, # the transaparency parameter\n",
    "         label='Pop Music')\n",
    "\n",
    "\n",
    "\n",
    "test_df_3 = df3[df3['class'] == 'alternative rock']\n",
    "\n",
    "plt.hist(test_df_3['rythm'], \n",
    "         alpha=0.5, # the transaparency parameter\n",
    "         label='Alternative Rock')\n",
    "\n",
    "  \n",
    "plt.legend(loc='upper right')\n",
    "plt.title('Rhythm')\n",
    "plt.show()"
   ]
  },
  {
   "cell_type": "code",
   "execution_count": 53,
   "metadata": {},
   "outputs": [
    {
     "data": {
      "text/html": [
       "<div>\n",
       "<style scoped>\n",
       "    .dataframe tbody tr th:only-of-type {\n",
       "        vertical-align: middle;\n",
       "    }\n",
       "\n",
       "    .dataframe tbody tr th {\n",
       "        vertical-align: top;\n",
       "    }\n",
       "\n",
       "    .dataframe thead th {\n",
       "        text-align: right;\n",
       "    }\n",
       "</style>\n",
       "<table border=\"1\" class=\"dataframe\">\n",
       "  <thead>\n",
       "    <tr style=\"text-align: right;\">\n",
       "      <th></th>\n",
       "      <th>rythm</th>\n",
       "    </tr>\n",
       "    <tr>\n",
       "      <th>class</th>\n",
       "      <th></th>\n",
       "    </tr>\n",
       "  </thead>\n",
       "  <tbody>\n",
       "    <tr>\n",
       "      <th>jazz</th>\n",
       "      <td>10.834086</td>\n",
       "    </tr>\n",
       "    <tr>\n",
       "      <th>pop music</th>\n",
       "      <td>9.897191</td>\n",
       "    </tr>\n",
       "    <tr>\n",
       "      <th>alternative rock</th>\n",
       "      <td>9.712384</td>\n",
       "    </tr>\n",
       "  </tbody>\n",
       "</table>\n",
       "</div>"
      ],
      "text/plain": [
       "                      rythm\n",
       "class                      \n",
       "jazz              10.834086\n",
       "pop music          9.897191\n",
       "alternative rock   9.712384"
      ]
     },
     "execution_count": 53,
     "metadata": {},
     "output_type": "execute_result"
    }
   ],
   "source": [
    "df3[['class','rythm']].groupby('class').mean().sort_values(by='rythm', ascending=False)[:3]"
   ]
  },
  {
   "cell_type": "code",
   "execution_count": 44,
   "metadata": {},
   "outputs": [
    {
     "data": {
      "image/png": "[encoded data removed]",
      "text/plain": [
       "<Figure size 432x288 with 1 Axes>"
      ]
     },
     "metadata": {
      "needs_background": "light"
     },
     "output_type": "display_data"
    }
   ],
   "source": [
    "\n",
    "test_df_1 = df3[df3['class'] == 'jazz']\n",
    "\n",
    "plt.hist(test_df_1['pitch'], \n",
    "         alpha=0.5, # the transaparency parameter\n",
    "         label='Jazz')\n",
    "\n",
    "\n",
    "test_df_2 = df3[df3['class'] == 'pop music']\n",
    "\n",
    "plt.hist(test_df_2['pitch'], \n",
    "         alpha=0.5, # the transaparency parameter\n",
    "         label='Pop Music')\n",
    "\n",
    "\n",
    "\n",
    "test_df_3 = df3[df3['class'] == 'alternative rock']\n",
    "\n",
    "plt.hist(test_df_3['pitch'], \n",
    "         alpha=0.5, # the transaparency parameter\n",
    "         label='Alternative Rock')\n",
    "\n",
    "  \n",
    "plt.legend(loc='upper right')\n",
    "plt.title('Pitch')\n",
    "plt.show()"
   ]
  },
  {
   "cell_type": "code",
   "execution_count": 54,
   "metadata": {},
   "outputs": [
    {
     "data": {
      "text/html": [
       "<div>\n",
       "<style scoped>\n",
       "    .dataframe tbody tr th:only-of-type {\n",
       "        vertical-align: middle;\n",
       "    }\n",
       "\n",
       "    .dataframe tbody tr th {\n",
       "        vertical-align: top;\n",
       "    }\n",
       "\n",
       "    .dataframe thead th {\n",
       "        text-align: right;\n",
       "    }\n",
       "</style>\n",
       "<table border=\"1\" class=\"dataframe\">\n",
       "  <thead>\n",
       "    <tr style=\"text-align: right;\">\n",
       "      <th></th>\n",
       "      <th>pitch</th>\n",
       "    </tr>\n",
       "    <tr>\n",
       "      <th>class</th>\n",
       "      <th></th>\n",
       "    </tr>\n",
       "  </thead>\n",
       "  <tbody>\n",
       "    <tr>\n",
       "      <th>jazz</th>\n",
       "      <td>19.806691</td>\n",
       "    </tr>\n",
       "    <tr>\n",
       "      <th>pop music</th>\n",
       "      <td>19.465813</td>\n",
       "    </tr>\n",
       "    <tr>\n",
       "      <th>alternative rock</th>\n",
       "      <td>19.029634</td>\n",
       "    </tr>\n",
       "  </tbody>\n",
       "</table>\n",
       "</div>"
      ],
      "text/plain": [
       "                      pitch\n",
       "class                      \n",
       "jazz              19.806691\n",
       "pop music         19.465813\n",
       "alternative rock  19.029634"
      ]
     },
     "execution_count": 54,
     "metadata": {},
     "output_type": "execute_result"
    }
   ],
   "source": [
    "df3[['class','pitch']].groupby('class').mean().sort_values(by='pitch', ascending=False)[:3]"
   ]
  },
  {
   "cell_type": "code",
   "execution_count": 45,
   "metadata": {},
   "outputs": [
    {
     "data": {
      "image/png": "[encoded data removed]",
      "text/plain": [
       "<Figure size 432x288 with 1 Axes>"
      ]
     },
     "metadata": {
      "needs_background": "light"
     },
     "output_type": "display_data"
    }
   ],
   "source": [
    "\n",
    "test_df_1 = df3[df3['class'] == 'jazz']\n",
    "\n",
    "plt.hist(test_df_1['acousticness'], \n",
    "         alpha=0.5, # the transaparency parameter\n",
    "         label='Jazz')\n",
    "\n",
    "\n",
    "test_df_2 = df3[df3['class'] == 'pop music']\n",
    "\n",
    "plt.hist(test_df_2['acousticness'], \n",
    "         alpha=0.5, # the transaparency parameter\n",
    "         label='Pop Music')\n",
    "\n",
    "\n",
    "\n",
    "test_df_3 = df3[df3['class'] == 'alternative rock']\n",
    "\n",
    "plt.hist(test_df_3['acousticness'], \n",
    "         alpha=0.5, # the transaparency parameter\n",
    "         label='Alternative Rock')\n",
    "\n",
    "  \n",
    "plt.legend(loc='upper right')\n",
    "plt.title('Acousticness')\n",
    "plt.show()"
   ]
  },
  {
   "cell_type": "code",
   "execution_count": 55,
   "metadata": {},
   "outputs": [
    {
     "data": {
      "text/html": [
       "<div>\n",
       "<style scoped>\n",
       "    .dataframe tbody tr th:only-of-type {\n",
       "        vertical-align: middle;\n",
       "    }\n",
       "\n",
       "    .dataframe tbody tr th {\n",
       "        vertical-align: top;\n",
       "    }\n",
       "\n",
       "    .dataframe thead th {\n",
       "        text-align: right;\n",
       "    }\n",
       "</style>\n",
       "<table border=\"1\" class=\"dataframe\">\n",
       "  <thead>\n",
       "    <tr style=\"text-align: right;\">\n",
       "      <th></th>\n",
       "      <th>acousticness</th>\n",
       "    </tr>\n",
       "    <tr>\n",
       "      <th>class</th>\n",
       "      <th></th>\n",
       "    </tr>\n",
       "  </thead>\n",
       "  <tbody>\n",
       "    <tr>\n",
       "      <th>pop music</th>\n",
       "      <td>30.265485</td>\n",
       "    </tr>\n",
       "    <tr>\n",
       "      <th>jazz</th>\n",
       "      <td>29.954238</td>\n",
       "    </tr>\n",
       "    <tr>\n",
       "      <th>alternative rock</th>\n",
       "      <td>29.765975</td>\n",
       "    </tr>\n",
       "  </tbody>\n",
       "</table>\n",
       "</div>"
      ],
      "text/plain": [
       "                  acousticness\n",
       "class                         \n",
       "pop music            30.265485\n",
       "jazz                 29.954238\n",
       "alternative rock     29.765975"
      ]
     },
     "execution_count": 55,
     "metadata": {},
     "output_type": "execute_result"
    }
   ],
   "source": [
    "df3[['class','acousticness']].groupby('class').mean().sort_values(by='acousticness', ascending=False)[:3]"
   ]
  },
  {
   "cell_type": "code",
   "execution_count": 46,
   "metadata": {},
   "outputs": [
    {
     "data": {
      "image/png": "[encoded data removed]",
      "text/plain": [
       "<Figure size 432x288 with 1 Axes>"
      ]
     },
     "metadata": {
      "needs_background": "light"
     },
     "output_type": "display_data"
    }
   ],
   "source": [
    "\n",
    "test_df_1 = df3[df3['class'] == 'jazz']\n",
    "\n",
    "plt.hist(test_df_1['danceability'], \n",
    "         alpha=0.5, # the transaparency parameter\n",
    "         label='Jazz')\n",
    "\n",
    "\n",
    "test_df_2 = df3[df3['class'] == 'pop music']\n",
    "\n",
    "plt.hist(test_df_2['danceability'], \n",
    "         alpha=0.5, # the transaparency parameter\n",
    "         label='Pop Music')\n",
    "\n",
    "\n",
    "\n",
    "test_df_3 = df3[df3['class'] == 'alternative rock']\n",
    "\n",
    "plt.hist(test_df_3['danceability'], \n",
    "         alpha=0.5, # the transaparency parameter\n",
    "         label='Alternative Rock')\n",
    "\n",
    "  \n",
    "plt.legend(loc='upper right')\n",
    "plt.title('Danceability')\n",
    "plt.show()"
   ]
  },
  {
   "cell_type": "code",
   "execution_count": 56,
   "metadata": {},
   "outputs": [
    {
     "data": {
      "text/html": [
       "<div>\n",
       "<style scoped>\n",
       "    .dataframe tbody tr th:only-of-type {\n",
       "        vertical-align: middle;\n",
       "    }\n",
       "\n",
       "    .dataframe tbody tr th {\n",
       "        vertical-align: top;\n",
       "    }\n",
       "\n",
       "    .dataframe thead th {\n",
       "        text-align: right;\n",
       "    }\n",
       "</style>\n",
       "<table border=\"1\" class=\"dataframe\">\n",
       "  <thead>\n",
       "    <tr style=\"text-align: right;\">\n",
       "      <th></th>\n",
       "      <th>danceability</th>\n",
       "    </tr>\n",
       "    <tr>\n",
       "      <th>class</th>\n",
       "      <th></th>\n",
       "    </tr>\n",
       "  </thead>\n",
       "  <tbody>\n",
       "    <tr>\n",
       "      <th>pop music</th>\n",
       "      <td>40.103070</td>\n",
       "    </tr>\n",
       "    <tr>\n",
       "      <th>jazz</th>\n",
       "      <td>39.893907</td>\n",
       "    </tr>\n",
       "    <tr>\n",
       "      <th>alternative rock</th>\n",
       "      <td>39.435776</td>\n",
       "    </tr>\n",
       "  </tbody>\n",
       "</table>\n",
       "</div>"
      ],
      "text/plain": [
       "                  danceability\n",
       "class                         \n",
       "pop music            40.103070\n",
       "jazz                 39.893907\n",
       "alternative rock     39.435776"
      ]
     },
     "execution_count": 56,
     "metadata": {},
     "output_type": "execute_result"
    }
   ],
   "source": [
    "df3[['class','danceability']].groupby('class').mean().sort_values(by='danceability', ascending=False)[:3]"
   ]
  },
  {
   "cell_type": "code",
   "execution_count": 47,
   "metadata": {},
   "outputs": [
    {
     "data": {
      "image/png": "[encoded data removed]",
      "text/plain": [
       "<Figure size 432x288 with 1 Axes>"
      ]
     },
     "metadata": {
      "needs_background": "light"
     },
     "output_type": "display_data"
    }
   ],
   "source": [
    "\n",
    "test_df_1 = df3[df3['class'] == 'jazz']\n",
    "\n",
    "plt.hist(test_df_1['instrumentalness'], \n",
    "         alpha=0.5, # the transaparency parameter\n",
    "         label='Jazz')\n",
    "\n",
    "\n",
    "test_df_2 = df3[df3['class'] == 'pop music']\n",
    "\n",
    "plt.hist(test_df_2['instrumentalness'], \n",
    "         alpha=0.5, # the transaparency parameter\n",
    "         label='Pop Music')\n",
    "\n",
    "\n",
    "\n",
    "test_df_3 = df3[df3['class'] == 'alternative rock']\n",
    "\n",
    "plt.hist(test_df_3['instrumentalness'], \n",
    "         alpha=0.5, # the transaparency parameter\n",
    "         label='Alternative Rock')\n",
    "\n",
    "  \n",
    "plt.legend(loc='upper right')\n",
    "plt.title('Instrumentalness')\n",
    "plt.show()"
   ]
  },
  {
   "cell_type": "code",
   "execution_count": 57,
   "metadata": {},
   "outputs": [
    {
     "data": {
      "text/html": [
       "<div>\n",
       "<style scoped>\n",
       "    .dataframe tbody tr th:only-of-type {\n",
       "        vertical-align: middle;\n",
       "    }\n",
       "\n",
       "    .dataframe tbody tr th {\n",
       "        vertical-align: top;\n",
       "    }\n",
       "\n",
       "    .dataframe thead th {\n",
       "        text-align: right;\n",
       "    }\n",
       "</style>\n",
       "<table border=\"1\" class=\"dataframe\">\n",
       "  <thead>\n",
       "    <tr style=\"text-align: right;\">\n",
       "      <th></th>\n",
       "      <th>instrumentalness</th>\n",
       "    </tr>\n",
       "    <tr>\n",
       "      <th>class</th>\n",
       "      <th></th>\n",
       "    </tr>\n",
       "  </thead>\n",
       "  <tbody>\n",
       "    <tr>\n",
       "      <th>jazz</th>\n",
       "      <td>60.297078</td>\n",
       "    </tr>\n",
       "    <tr>\n",
       "      <th>pop music</th>\n",
       "      <td>59.459318</td>\n",
       "    </tr>\n",
       "    <tr>\n",
       "      <th>alternative rock</th>\n",
       "      <td>59.028581</td>\n",
       "    </tr>\n",
       "  </tbody>\n",
       "</table>\n",
       "</div>"
      ],
      "text/plain": [
       "                  instrumentalness\n",
       "class                             \n",
       "jazz                     60.297078\n",
       "pop music                59.459318\n",
       "alternative rock         59.028581"
      ]
     },
     "execution_count": 57,
     "metadata": {},
     "output_type": "execute_result"
    }
   ],
   "source": [
    "df3[['class','instrumentalness']].groupby('class').mean().sort_values(by='instrumentalness', ascending=False)[:3]"
   ]
  },
  {
   "cell_type": "code",
   "execution_count": 48,
   "metadata": {},
   "outputs": [
    {
     "data": {
      "image/png": "[encoded data removed]",
      "text/plain": [
       "<Figure size 432x288 with 1 Axes>"
      ]
     },
     "metadata": {
      "needs_background": "light"
     },
     "output_type": "display_data"
    }
   ],
   "source": [
    "test_df_1 = df3[df3['class'] == 'jazz']\n",
    "\n",
    "plt.hist(test_df_1['loudness'], \n",
    "         alpha=0.5, # the transaparency parameter\n",
    "         label='Jazz')\n",
    "\n",
    "\n",
    "test_df_2 = df3[df3['class'] == 'pop music']\n",
    "\n",
    "plt.hist(test_df_2['loudness'], \n",
    "         alpha=0.5, # the transaparency parameter\n",
    "         label='Pop Music')\n",
    "\n",
    "\n",
    "\n",
    "test_df_3 = df3[df3['class'] == 'alternative rock']\n",
    "\n",
    "plt.hist(test_df_3['loudness'], \n",
    "         alpha=0.5, # the transaparency parameter\n",
    "         label='Alternative Rock')\n",
    "\n",
    "  \n",
    "plt.legend(loc='upper right')\n",
    "plt.title('Loudness')\n",
    "plt.show()"
   ]
  },
  {
   "cell_type": "code",
   "execution_count": 58,
   "metadata": {},
   "outputs": [
    {
     "data": {
      "text/html": [
       "<div>\n",
       "<style scoped>\n",
       "    .dataframe tbody tr th:only-of-type {\n",
       "        vertical-align: middle;\n",
       "    }\n",
       "\n",
       "    .dataframe tbody tr th {\n",
       "        vertical-align: top;\n",
       "    }\n",
       "\n",
       "    .dataframe thead th {\n",
       "        text-align: right;\n",
       "    }\n",
       "</style>\n",
       "<table border=\"1\" class=\"dataframe\">\n",
       "  <thead>\n",
       "    <tr style=\"text-align: right;\">\n",
       "      <th></th>\n",
       "      <th>loudness</th>\n",
       "    </tr>\n",
       "    <tr>\n",
       "      <th>class</th>\n",
       "      <th></th>\n",
       "    </tr>\n",
       "  </thead>\n",
       "  <tbody>\n",
       "    <tr>\n",
       "      <th>jazz</th>\n",
       "      <td>70.576501</td>\n",
       "    </tr>\n",
       "    <tr>\n",
       "      <th>alternative rock</th>\n",
       "      <td>69.927267</td>\n",
       "    </tr>\n",
       "    <tr>\n",
       "      <th>pop music</th>\n",
       "      <td>69.826046</td>\n",
       "    </tr>\n",
       "  </tbody>\n",
       "</table>\n",
       "</div>"
      ],
      "text/plain": [
       "                   loudness\n",
       "class                      \n",
       "jazz              70.576501\n",
       "alternative rock  69.927267\n",
       "pop music         69.826046"
      ]
     },
     "execution_count": 58,
     "metadata": {},
     "output_type": "execute_result"
    }
   ],
   "source": [
    "df3[['class','loudness']].groupby('class').mean().sort_values(by='loudness', ascending=False)[:3]"
   ]
  },
  {
   "cell_type": "code",
   "execution_count": 49,
   "metadata": {},
   "outputs": [
    {
     "data": {
      "image/png": "[encoded data removed]",
      "text/plain": [
       "<Figure size 432x288 with 1 Axes>"
      ]
     },
     "metadata": {
      "needs_background": "light"
     },
     "output_type": "display_data"
    }
   ],
   "source": [
    "test_df_1 = df3[df3['class'] == 'jazz']\n",
    "\n",
    "plt.hist(test_df_1['liveness'], \n",
    "         alpha=0.5, # the transaparency parameter\n",
    "         label='Jazz')\n",
    "\n",
    "\n",
    "test_df_2 = df3[df3['class'] == 'pop music']\n",
    "\n",
    "plt.hist(test_df_2['liveness'], \n",
    "         alpha=0.5, # the transaparency parameter\n",
    "         label='Pop Music')\n",
    "\n",
    "\n",
    "\n",
    "test_df_3 = df3[df3['class'] == 'alternative rock']\n",
    "\n",
    "plt.hist(test_df_3['liveness'], \n",
    "         alpha=0.5, # the transaparency parameter\n",
    "         label='Alternative Rock')\n",
    "\n",
    "  \n",
    "plt.legend(loc='upper right')\n",
    "plt.title('Liveness')\n",
    "plt.show()"
   ]
  },
  {
   "cell_type": "code",
   "execution_count": 59,
   "metadata": {},
   "outputs": [
    {
     "data": {
      "text/html": [
       "<div>\n",
       "<style scoped>\n",
       "    .dataframe tbody tr th:only-of-type {\n",
       "        vertical-align: middle;\n",
       "    }\n",
       "\n",
       "    .dataframe tbody tr th {\n",
       "        vertical-align: top;\n",
       "    }\n",
       "\n",
       "    .dataframe thead th {\n",
       "        text-align: right;\n",
       "    }\n",
       "</style>\n",
       "<table border=\"1\" class=\"dataframe\">\n",
       "  <thead>\n",
       "    <tr style=\"text-align: right;\">\n",
       "      <th></th>\n",
       "      <th>liveness</th>\n",
       "    </tr>\n",
       "    <tr>\n",
       "      <th>class</th>\n",
       "      <th></th>\n",
       "    </tr>\n",
       "  </thead>\n",
       "  <tbody>\n",
       "    <tr>\n",
       "      <th>jazz</th>\n",
       "      <td>80.565860</td>\n",
       "    </tr>\n",
       "    <tr>\n",
       "      <th>alternative rock</th>\n",
       "      <td>79.994343</td>\n",
       "    </tr>\n",
       "    <tr>\n",
       "      <th>pop music</th>\n",
       "      <td>79.597643</td>\n",
       "    </tr>\n",
       "  </tbody>\n",
       "</table>\n",
       "</div>"
      ],
      "text/plain": [
       "                   liveness\n",
       "class                      \n",
       "jazz              80.565860\n",
       "alternative rock  79.994343\n",
       "pop music         79.597643"
      ]
     },
     "execution_count": 59,
     "metadata": {},
     "output_type": "execute_result"
    }
   ],
   "source": [
    "df3[['class','liveness']].groupby('class').mean().sort_values(by='liveness', ascending=False)[:3]"
   ]
  },
  {
   "cell_type": "code",
   "execution_count": 50,
   "metadata": {},
   "outputs": [
    {
     "data": {
      "image/png": "[encoded data removed]",
      "text/plain": [
       "<Figure size 432x288 with 1 Axes>"
      ]
     },
     "metadata": {
      "needs_background": "light"
     },
     "output_type": "display_data"
    }
   ],
   "source": [
    "test_df_1 = df3[df3['class'] == 'jazz']\n",
    "\n",
    "plt.hist(test_df_1['valence'], \n",
    "         alpha=0.5, # the transaparency parameter\n",
    "         label='Jazz')\n",
    "\n",
    "\n",
    "test_df_2 = df3[df3['class'] == 'pop music']\n",
    "\n",
    "plt.hist(test_df_2['valence'], \n",
    "         alpha=0.5, # the transaparency parameter\n",
    "         label='Pop Music')\n",
    "\n",
    "\n",
    "\n",
    "test_df_3 = df3[df3['class'] == 'alternative rock']\n",
    "\n",
    "plt.hist(test_df_3['valence'], \n",
    "         alpha=0.5, # the transaparency parameter\n",
    "         label='Alternative Rock')\n",
    "\n",
    "  \n",
    "plt.legend(loc='upper right')\n",
    "plt.title('Valence')\n",
    "plt.show()"
   ]
  },
  {
   "cell_type": "code",
   "execution_count": 60,
   "metadata": {},
   "outputs": [
    {
     "data": {
      "text/html": [
       "<div>\n",
       "<style scoped>\n",
       "    .dataframe tbody tr th:only-of-type {\n",
       "        vertical-align: middle;\n",
       "    }\n",
       "\n",
       "    .dataframe tbody tr th {\n",
       "        vertical-align: top;\n",
       "    }\n",
       "\n",
       "    .dataframe thead th {\n",
       "        text-align: right;\n",
       "    }\n",
       "</style>\n",
       "<table border=\"1\" class=\"dataframe\">\n",
       "  <thead>\n",
       "    <tr style=\"text-align: right;\">\n",
       "      <th></th>\n",
       "      <th>valence</th>\n",
       "    </tr>\n",
       "    <tr>\n",
       "      <th>class</th>\n",
       "      <th></th>\n",
       "    </tr>\n",
       "  </thead>\n",
       "  <tbody>\n",
       "    <tr>\n",
       "      <th>jazz</th>\n",
       "      <td>91.080241</td>\n",
       "    </tr>\n",
       "    <tr>\n",
       "      <th>pop music</th>\n",
       "      <td>90.215948</td>\n",
       "    </tr>\n",
       "    <tr>\n",
       "      <th>alternative rock</th>\n",
       "      <td>90.142535</td>\n",
       "    </tr>\n",
       "  </tbody>\n",
       "</table>\n",
       "</div>"
      ],
      "text/plain": [
       "                    valence\n",
       "class                      \n",
       "jazz              91.080241\n",
       "pop music         90.215948\n",
       "alternative rock  90.142535"
      ]
     },
     "execution_count": 60,
     "metadata": {},
     "output_type": "execute_result"
    }
   ],
   "source": [
    "df3[['class','valence']].groupby('class').mean().sort_values(by='valence', ascending=False)[:3]"
   ]
  },
  {
   "cell_type": "code",
   "execution_count": null,
   "metadata": {},
   "outputs": [],
   "source": []
  }
 ],
 "metadata": {
  "kernelspec": {
   "display_name": "Python 3",
   "language": "python",
   "name": "python3"
  },
  "language_info": {
   "codemirror_mode": {
    "name": "ipython",
    "version": 3
   },
   "file_extension": ".py",
   "mimetype": "text/x-python",
   "name": "python",
   "nbconvert_exporter": "python",
   "pygments_lexer": "ipython3",
   "version": "3.8.8"
  }
 },
 "nbformat": 4,
 "nbformat_minor": 2
}
